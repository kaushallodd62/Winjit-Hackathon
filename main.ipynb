{
 "cells": [
  {
   "cell_type": "code",
   "execution_count": null,
   "metadata": {},
   "outputs": [],
   "source": [
    "import PyPDF2\n",
    "import data_func\n",
    "import xlsxwriter"
   ]
  },
  {
   "cell_type": "code",
   "execution_count": null,
   "metadata": {},
   "outputs": [],
   "source": [
    "\n",
    "pdf_dir = './war-and-peace.pdf'\n",
    "reader = PyPDF2.PdfFileReader(pdf_dir)\n",
    "print(reader.documentInfo)\n",
    "\n",
    "num_of_pages = reader.numPages\n",
    "print('Number of pages: ' + str(num_of_pages))"
   ]
  },
  {
   "cell_type": "code",
   "execution_count": null,
   "metadata": {},
   "outputs": [],
   "source": [
    "workbook = xlsxwriter.Workbook('./Python_Krunal-Lodd_Manipal-Institute-of-Technology.xlsx')\n",
    "worksheet = workbook.add_worksheet(\"My sheet\")\n",
    "worksheet.write(\"A1\", \"Inputs\")\n",
    "worksheet.write(\"B2\", \"N (number of words as output)\")\n",
    "worksheet.write(\"C2\", \"50\")\n",
    "worksheet.write(\"B3\", \"M (Length greater than M characters)\")\n",
    "worksheet.write(\"C3\", \"6\")\n",
    "worksheet.write(\"A5\", \"Outputs\")\n",
    "worksheet.write(\"A6\", \"Ranks\")\n",
    "worksheet.write(\"B6\", \"Words\")\n",
    "\n",
    "text = data_func.convert_pdf_to_string(pdf_dir)"
   ]
  },
  {
   "cell_type": "code",
   "execution_count": null,
   "metadata": {},
   "outputs": [],
   "source": [
    "text = text.replace('.','')\n",
    "text = text.replace('\"','')\n",
    "text = text.replace('(','')\n",
    "text = text.replace(')','')\n",
    "text = text.replace('[','')\n",
    "text = text.replace(']','')\n",
    "text = text.replace('/','')\n",
    "text = text.replace('<','')\n",
    "text = text.replace('>','')\n",
    "text = text.replace('?','')\n",
    "text = text.replace('!','')\n",
    "text = text.replace(':','')\n",
    "text = text.replace(';','')\n",
    "text = text.replace(';','')\n",
    "text = text.replace('\\x0c','')\n",
    "counts = dict()\n",
    "counts = data_func.word_count(text)\n",
    "print(counts)"
   ]
  },
  {
   "cell_type": "code",
   "execution_count": null,
   "metadata": {},
   "outputs": [],
   "source": [
    "reverseSorted = sorted(counts.items(), key=lambda counts: counts[1], reverse=True)\n",
    "print(reverseSorted[:50])\n"
   ]
  },
  {
   "cell_type": "code",
   "execution_count": null,
   "metadata": {},
   "outputs": [],
   "source": [
    "reverseSortedMoreThanSix = []\n",
    "for s, c in reverseSorted:\n",
    "    if(len(s) > 6):\n",
    "        reverseSortedMoreThanSix.append((s, c))\n",
    "\n",
    "count = 1\n",
    "row = 6\n",
    "coloumn = 0\n",
    "for s, c in reverseSortedMoreThanSix[:50]:\n",
    "    worksheet.write(row, coloumn, count)\n",
    "    worksheet.write(row, coloumn+1, s)\n",
    "    count += 1\n",
    "    row += 1"
   ]
  },
  {
   "cell_type": "code",
   "execution_count": null,
   "metadata": {},
   "outputs": [],
   "source": [
    "workbook.close()"
   ]
  }
 ],
 "metadata": {
  "interpreter": {
   "hash": "aee8b7b246df8f9039afb4144a1f6fd8d2ca17a180786b69acc140d282b71a49"
  },
  "kernelspec": {
   "display_name": "Python 3.9.7 64-bit",
   "language": "python",
   "name": "python3"
  },
  "language_info": {
   "codemirror_mode": {
    "name": "ipython",
    "version": 3
   },
   "file_extension": ".py",
   "mimetype": "text/x-python",
   "name": "python",
   "nbconvert_exporter": "python",
   "pygments_lexer": "ipython3",
   "version": "3.9.7"
  },
  "orig_nbformat": 4
 },
 "nbformat": 4,
 "nbformat_minor": 2
}
