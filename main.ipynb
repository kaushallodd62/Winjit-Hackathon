{
 "cells": [
  {
   "cell_type": "code",
   "execution_count": 154,
   "metadata": {},
   "outputs": [],
   "source": [
    "import PyPDF2\n",
    "import data_func\n",
    "import xlsxwriter"
   ]
  },
  {
   "cell_type": "code",
   "execution_count": 155,
   "metadata": {},
   "outputs": [
    {
     "name": "stdout",
     "output_type": "stream",
     "text": [
      "{'/Author': 'Leo Tolstoy', '/Company': 'Global Grey ebooks', '/CreationDate': \"D:20180723073202+01'00'\", '/Creator': 'Acrobat PDFMaker 9.1 for Word', '/Keywords': 'https://www.globalgreyebooks.com/war-and-peace-ebook/', '/ModDate': \"D:20180723073528+01'00'\", '/Producer': 'Adobe PDF Library 9.0', '/SourceModified': 'D:20180723063058', '/Title': 'War and Peace'}\n",
      "Number of pages: 1804\n"
     ]
    }
   ],
   "source": [
    "\n",
    "pdf_dir = './war-and-peace.pdf'\n",
    "reader = PyPDF2.PdfFileReader(pdf_dir)\n",
    "print(reader.documentInfo)\n",
    "\n",
    "num_of_pages = reader.numPages\n",
    "print('Number of pages: ' + str(num_of_pages))"
   ]
  },
  {
   "cell_type": "code",
   "execution_count": 156,
   "metadata": {},
   "outputs": [],
   "source": [
    "workbook = xlsxwriter.Workbook('./Python_Krunal-Lodd_Manipal-Institute-of-Technology.xlsx')\n",
    "worksheet = workbook.add_worksheet(\"My sheet\")\n",
    "worksheet.write(\"A1\", \"Inputs\")\n",
    "worksheet.write(\"B2\", \"N (number of words as output)\")\n",
    "worksheet.write(\"C2\", \"50\")\n",
    "worksheet.write(\"B3\", \"M (Length greater than M characters)\")\n",
    "worksheet.write(\"C3\", \"6\")\n",
    "worksheet.write(\"A5\", \"Outputs\")\n",
    "worksheet.write(\"A6\", \"Ranks\")\n",
    "worksheet.write(\"B6\", \"Words\")\n",
    "\n",
    "text = data_func.convert_pdf_to_string(pdf_dir)"
   ]
  },
  {
   "cell_type": "code",
   "execution_count": 157,
   "metadata": {},
   "outputs": [
    {
     "name": "stdout",
     "output_type": "stream",
     "text": [
      "{'Problem': 1, 'Statement': 1, 'Build': 1, 'an': 3, 'application': 5, 'to': 14, 'read': 2, 'the': 33, 'novel': 1, '“War': 1, 'and': 19, 'Peace”': 1, 'written': 2, 'by': 4, 'Leo': 2, 'Tolstoy': 2, 'produce': 1, 'a': 6, 'ranking': 1, 'of': 16, 'count': 4, 'number': 1, 'times': 1, 'each': 1, 'word': 4, 'is': 5, 'used': 2, 'in': 6, 'entire': 1, 'book': 1, 'Download': 1, 'books': 1, 'copy': 2, 'War': 1, 'Peace': 1, 'graf': 1, '-': 1, 'Free': 1, 'Ebook': 1, 'gutenbergorg': 1, '1': 3, 'Sort': 1, 'list': 2, 'descending': 1, 'order': 1, 'supply': 1, 'top': 3, '50': 2, 'words': 4, '2': 3, 'Supply': 2, 'where': 1, 'length': 2, 'longer': 1, 'than': 3, '6': 3, 'characters': 2, '3': 3, 'The': 4, 'should': 2, 'record': 1, 'display': 1, 'duration': 1, 'it': 3, 'takes': 1, 'execute': 1, '4': 2, 'Structure': 1, 'your': 11, 'solution': 6, 'be': 9, 'as': 2, 'generic': 2, 'possible': 1, 'describe': 1, 'what': 3, 'aspects': 1, 'make': 2, 'flexible': 1, '5': 2, 'Comment': 3, 'on': 6, 'how': 3, 'could': 3, 'improved,': 1, 'possibly': 1, 'made': 1, 'more': 2, 'efficient': 1, 'testing': 1, 'done': 1, 'validate': 1, 'accuracy': 1, '7': 2, 'you': 11, 'would': 2, 'improve': 1, 'performance': 1, 'speed': 1, '8': 1, 'Describe': 4, 'turned': 1, 'into': 1, 'cloud-based': 1, 'service': 1, '9': 1, 'all': 1, 'source': 1, 'code,': 1, 'together': 1, 'with': 2, 'responses': 1, 'above': 1, 'General': 1, 'Questions': 1, 'enjoy': 1, 'about': 1, 'programming': 1, 'Give': 1, 'examples': 1, 'process': 2, 'follow': 1, 'when': 1, 'writing': 1, 'code': 4, 'from': 1, 'requirements': 1, 'delivery': 1, 'why': 1, 'believe': 2, 'are': 2, 'best': 2, 'candidate': 2, 'for': 2, 'role': 1, 'at': 1, 'us': 1, 'Also': 1, 'skills': 1, 'attributes': 1, 'that': 3, 'Instructions': 1, 'Notes': 1, 'Please': 1, 'assignment': 5, 'instructions': 1, 'carefully': 1, 'complete': 2, 'answers': 1, 'thoroughly': 1, 'We': 5, 'expect': 2, 'not': 1, 'take': 1, 'four': 1, 'hours': 1, 'do': 1, 'understand': 1, 'this': 3, 'time': 1, 'may': 1, 'slight': 1, 'inconvenience,': 1, 'however,': 1, 'we': 2, 'place': 2, 'good': 1, 'degree': 1, 'emphasis': 2, 'during': 1, 'recruiting': 1, 'consists': 1, 'core': 1, 'problem': 2, 'statement,': 1, 'response': 1, 'thorough': 1, 'accurate': 1, 'way': 1, 'solve': 1, 'results': 1, 'also': 3, 'great': 1, 'deal': 1, 'structure': 1, 'architecture': 1, 'encourage': 2, 'give': 2, 'sufficient': 1, 'thought': 2, 'aspect': 1, 'some': 1, 'presentation': 1, 'layer': 1, 'feelthat': 1, 'opportunity': 1, 'showcase': 1, 'overall': 1, 'Flexibility': 1, 'adaptability': 1, 'will': 2, 'assessed': 2, 'use': 1, 'adherence': 1, 'conventions': 1, 'standards': 1, 'too': 1, 'You': 1, 'expected': 1, 'submit': 1, 'PDF': 1, 'format': 2, 'below': 1, '•': 5, 'Programming': 1, 'Language': 1, 'details': 1, 'Online': 1, 'complier': 2, 'or': 1, 'local': 1, 'execution': 1, 'Any': 1, 'other': 1, 'additional': 1, 'comments': 1, 'running': 1, 'codeProgram': 1, 'must': 1, 'pasted': 1, 'doc': 1, 'Logical': 1, 'explanationdescription': 1, 'executed': 1, 'need': 1, 'output': 2, 'file': 2, 'sample': 2, 'attached': 1, 'along': 1, 'file,': 1, 'based': 1, 'any': 1, 'input': 1, 'M': 2, '&': 1, 'N': 3, 'seem': 1, 'suitable': 1, 'Here': 1, 'having': 1, 'greater': 1}\n"
     ]
    }
   ],
   "source": [
    "text = text.replace('.','')\n",
    "text = text.replace('\"','')\n",
    "text = text.replace('(','')\n",
    "text = text.replace(')','')\n",
    "text = text.replace('[','')\n",
    "text = text.replace(']','')\n",
    "text = text.replace('/','')\n",
    "text = text.replace('<','')\n",
    "text = text.replace('>','')\n",
    "text = text.replace('?','')\n",
    "text = text.replace('!','')\n",
    "text = text.replace(':','')\n",
    "text = text.replace(';','')\n",
    "text = text.replace(';','')\n",
    "text = text.replace('\\x0c','')\n",
    "counts = dict()\n",
    "counts = data_func.word_count(text)\n",
    "print(counts)"
   ]
  },
  {
   "cell_type": "code",
   "execution_count": 158,
   "metadata": {},
   "outputs": [
    {
     "name": "stdout",
     "output_type": "stream",
     "text": [
      "[('the', 33), ('and', 19), ('of', 16), ('to', 14), ('your', 11), ('you', 11), ('be', 9), ('a', 6), ('in', 6), ('solution', 6), ('on', 6), ('application', 5), ('is', 5), ('assignment', 5), ('We', 5), ('•', 5), ('by', 4), ('count', 4), ('word', 4), ('words', 4), ('The', 4), ('Describe', 4), ('code', 4), ('an', 3), ('1', 3), ('top', 3), ('2', 3), ('than', 3), ('6', 3), ('3', 3), ('it', 3), ('what', 3), ('Comment', 3), ('how', 3), ('could', 3), ('that', 3), ('this', 3), ('also', 3), ('N', 3), ('read', 2), ('written', 2), ('Leo', 2), ('Tolstoy', 2), ('used', 2), ('copy', 2), ('list', 2), ('50', 2), ('Supply', 2), ('length', 2), ('characters', 2)]\n"
     ]
    }
   ],
   "source": [
    "reverseSorted = sorted(counts.items(), key=lambda counts: counts[1], reverse=True)\n",
    "print(reverseSorted[:50])\n"
   ]
  },
  {
   "cell_type": "code",
   "execution_count": 159,
   "metadata": {},
   "outputs": [],
   "source": [
    "reverseSortedMoreThanSix = []\n",
    "for s, c in reverseSorted:\n",
    "    if(len(s) > 6):\n",
    "        reverseSortedMoreThanSix.append((s, c))\n",
    "\n",
    "count = 1\n",
    "row = 6\n",
    "coloumn = 0\n",
    "for s, c in reverseSortedMoreThanSix[:50]:\n",
    "    worksheet.write(row, coloumn, count)\n",
    "    worksheet.write(row, coloumn+1, s)\n",
    "    count += 1\n",
    "    row += 1"
   ]
  },
  {
   "cell_type": "code",
   "execution_count": 160,
   "metadata": {},
   "outputs": [],
   "source": [
    "workbook.close()"
   ]
  }
 ],
 "metadata": {
  "interpreter": {
   "hash": "aee8b7b246df8f9039afb4144a1f6fd8d2ca17a180786b69acc140d282b71a49"
  },
  "kernelspec": {
   "display_name": "Python 3.9.7 64-bit",
   "language": "python",
   "name": "python3"
  },
  "language_info": {
   "codemirror_mode": {
    "name": "ipython",
    "version": 3
   },
   "file_extension": ".py",
   "mimetype": "text/x-python",
   "name": "python",
   "nbconvert_exporter": "python",
   "pygments_lexer": "ipython3",
   "version": "3.9.7"
  },
  "orig_nbformat": 4
 },
 "nbformat": 4,
 "nbformat_minor": 2
}
